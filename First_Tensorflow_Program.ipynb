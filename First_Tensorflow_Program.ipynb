{
  "nbformat": 4,
  "nbformat_minor": 0,
  "metadata": {
    "colab": {
      "name": "First Tensorflow Program.ipynb",
      "version": "0.3.2",
      "provenance": [],
      "collapsed_sections": [],
      "include_colab_link": true
    },
    "kernelspec": {
      "name": "python3",
      "display_name": "Python 3"
    }
  },
  "cells": [
    {
      "cell_type": "markdown",
      "metadata": {
        "id": "view-in-github",
        "colab_type": "text"
      },
      "source": [
        "<a href=\"https://colab.research.google.com/github/nithinreddy-dudyala/hello-world/blob/master/First_Tensorflow_Program.ipynb\" target=\"_parent\"><img src=\"https://colab.research.google.com/assets/colab-badge.svg\" alt=\"Open In Colab\"/></a>"
      ]
    },
    {
      "metadata": {
        "id": "OJBYApchkwU1",
        "colab_type": "code",
        "colab": {}
      },
      "cell_type": "code",
      "source": [
        "import tensorflow as tf"
      ],
      "execution_count": 0,
      "outputs": []
    },
    {
      "metadata": {
        "id": "JRS_4epIk7Uo",
        "colab_type": "code",
        "colab": {
          "base_uri": "https://localhost:8080/",
          "height": 34
        },
        "outputId": "a28b5855-cad5-4cc0-f788-546fb08cf81c"
      },
      "cell_type": "code",
      "source": [
        "a1 = tf.constant([4,3,2,1])\n",
        "a2 = tf.constant([1,3,4,7])\n",
        "\n",
        "res=tf.multiply(a1,a2)\n",
        "\n",
        "sess=tf.Session()\n",
        "\n",
        "print(sess.run(res))\n",
        "\n",
        "sess.close()"
      ],
      "execution_count": 5,
      "outputs": [
        {
          "output_type": "stream",
          "text": [
            "[4 9 8 7]\n"
          ],
          "name": "stdout"
        }
      ]
    },
    {
      "metadata": {
        "id": "BBGGfcfu21ZX",
        "colab_type": "code",
        "colab": {
          "base_uri": "https://localhost:8080/",
          "height": 34
        },
        "outputId": "4b619891-be3e-4719-f3e5-8373dfefdb3a"
      },
      "cell_type": "code",
      "source": [
        "with tf.Session() as sess:\n",
        "  finalOutput = sess.run(res)\n",
        "  print(finalOutput)"
      ],
      "execution_count": 6,
      "outputs": [
        {
          "output_type": "stream",
          "text": [
            "[4 9 8 7]\n"
          ],
          "name": "stdout"
        }
      ]
    },
    {
      "metadata": {
        "id": "lC8HTCIDAArS",
        "colab_type": "code",
        "colab": {
          "base_uri": "https://localhost:8080/",
          "height": 1042
        },
        "outputId": "e671773a-3012-443c-9d39-a2efa3f8b205"
      },
      "cell_type": "code",
      "source": [
        "help(tf.constant)"
      ],
      "execution_count": 14,
      "outputs": [
        {
          "output_type": "stream",
          "text": [
            "Help on function constant in module tensorflow.python.framework.constant_op:\n",
            "\n",
            "constant(value, dtype=None, shape=None, name='Const', verify_shape=False)\n",
            "    Creates a constant tensor.\n",
            "    \n",
            "    The resulting tensor is populated with values of type `dtype`, as\n",
            "    specified by arguments `value` and (optionally) `shape` (see examples\n",
            "    below).\n",
            "    \n",
            "    The argument `value` can be a constant value, or a list of values of type\n",
            "    `dtype`. If `value` is a list, then the length of the list must be less\n",
            "    than or equal to the number of elements implied by the `shape` argument (if\n",
            "    specified). In the case where the list length is less than the number of\n",
            "    elements specified by `shape`, the last element in the list will be used\n",
            "    to fill the remaining entries.\n",
            "    \n",
            "    The argument `shape` is optional. If present, it specifies the dimensions of\n",
            "    the resulting tensor. If not present, the shape of `value` is used.\n",
            "    \n",
            "    If the argument `dtype` is not specified, then the type is inferred from\n",
            "    the type of `value`.\n",
            "    \n",
            "    For example:\n",
            "    \n",
            "    ```python\n",
            "    # Constant 1-D Tensor populated with value list.\n",
            "    tensor = tf.constant([1, 2, 3, 4, 5, 6, 7]) => [1 2 3 4 5 6 7]\n",
            "    \n",
            "    # Constant 2-D tensor populated with scalar value -1.\n",
            "    tensor = tf.constant(-1.0, shape=[2, 3]) => [[-1. -1. -1.]\n",
            "                                                 [-1. -1. -1.]]\n",
            "    ```\n",
            "    \n",
            "    `tf.constant` differs from `tf.fill` in a few ways:\n",
            "    \n",
            "    *   `tf.constant` supports arbitrary constants, not just uniform scalar\n",
            "        Tensors like `tf.fill`.\n",
            "    *   `tf.constant` creates a `Const` node in the computation graph with the\n",
            "        exact value at graph construction time. On the other hand, `tf.fill`\n",
            "        creates an Op in the graph that is expanded at runtime.\n",
            "    *   Because `tf.constant` only embeds constant values in the graph, it does\n",
            "        not support dynamic shapes based on other runtime Tensors, whereas\n",
            "        `tf.fill` does.\n",
            "    \n",
            "    Args:\n",
            "      value:          A constant value (or list) of output type `dtype`.\n",
            "    \n",
            "      dtype:          The type of the elements of the resulting tensor.\n",
            "    \n",
            "      shape:          Optional dimensions of resulting tensor.\n",
            "    \n",
            "      name:           Optional name for the tensor.\n",
            "    \n",
            "      verify_shape:   Boolean that enables verification of a shape of values.\n",
            "    \n",
            "    Returns:\n",
            "      A Constant Tensor.\n",
            "    \n",
            "    Raises:\n",
            "      TypeError: if shape is incorrectly specified or unsupported.\n",
            "\n"
          ],
          "name": "stdout"
        }
      ]
    },
    {
      "metadata": {
        "id": "uXlWvKYMI7nG",
        "colab_type": "code",
        "colab": {
          "base_uri": "https://localhost:8080/",
          "height": 34
        },
        "outputId": "c1764d9e-c213-4233-88d3-fe301bfccb0d"
      },
      "cell_type": "code",
      "source": [
        "a = tf.Variable(tf.zeros([5]), name=\"a\")\n",
        "print(a)"
      ],
      "execution_count": 22,
      "outputs": [
        {
          "output_type": "stream",
          "text": [
            "<tf.Variable 'a_7:0' shape=(5,) dtype=float32_ref>\n"
          ],
          "name": "stdout"
        }
      ]
    },
    {
      "metadata": {
        "id": "92ZIReT1gRhE",
        "colab_type": "code",
        "colab": {
          "base_uri": "https://localhost:8080/",
          "height": 34
        },
        "outputId": "b69dc6c1-4236-42bf-cd7a-ea0bd5d29d5c"
      },
      "cell_type": "code",
      "source": [
        "a[2]"
      ],
      "execution_count": 24,
      "outputs": [
        {
          "output_type": "execute_result",
          "data": {
            "text/plain": [
              "<tf.Tensor 'strided_slice:0' shape=() dtype=float32>"
            ]
          },
          "metadata": {
            "tags": []
          },
          "execution_count": 24
        }
      ]
    },
    {
      "metadata": {
        "id": "tHG_6MYsgr7v",
        "colab_type": "code",
        "colab": {}
      },
      "cell_type": "code",
      "source": [
        "a=tf.Variable(0)"
      ],
      "execution_count": 0,
      "outputs": []
    },
    {
      "metadata": {
        "id": "iV1ZcyQtwplQ",
        "colab_type": "code",
        "colab": {}
      },
      "cell_type": "code",
      "source": [
        "b=tf.constant(1)"
      ],
      "execution_count": 0,
      "outputs": []
    },
    {
      "metadata": {
        "id": "0nkmXvpRwtaS",
        "colab_type": "code",
        "colab": {}
      },
      "cell_type": "code",
      "source": [
        "state = tf.Variable(0)\n",
        "one = tf.constant(1)\n",
        "new_value = tf.add(state, one)\n",
        "update = tf.assign(state, new_value)\n",
        "init_op = tf.global_variables_initializer()\n"
      ],
      "execution_count": 0,
      "outputs": []
    },
    {
      "metadata": {
        "id": "HFZ7c5S-w1C4",
        "colab_type": "code",
        "colab": {}
      },
      "cell_type": "code",
      "source": [
        "init_op = tf.global_variables_initializer()"
      ],
      "execution_count": 0,
      "outputs": []
    },
    {
      "metadata": {
        "id": "A8ul-u1oxEOe",
        "colab_type": "code",
        "colab": {
          "base_uri": "https://localhost:8080/",
          "height": 370
        },
        "outputId": "817781c1-b5bf-418e-cdee-4ab025cf860e"
      },
      "cell_type": "code",
      "source": [
        "with tf.Session() as sess:\n",
        "  sess.run(init_op)\n",
        "  print(state)\n",
        "  for i in range(20):\n",
        "    sess.run(update)\n",
        "    print(sess.run(state))"
      ],
      "execution_count": 40,
      "outputs": [
        {
          "output_type": "stream",
          "text": [
            "<tf.Variable 'Variable_1:0' shape=() dtype=int32_ref>\n",
            "1\n",
            "2\n",
            "3\n",
            "4\n",
            "5\n",
            "6\n",
            "7\n",
            "8\n",
            "9\n",
            "10\n",
            "11\n",
            "12\n",
            "13\n",
            "14\n",
            "15\n",
            "16\n",
            "17\n",
            "18\n",
            "19\n",
            "20\n"
          ],
          "name": "stdout"
        }
      ]
    },
    {
      "metadata": {
        "id": "8G0aVx1axt86",
        "colab_type": "code",
        "colab": {}
      },
      "cell_type": "code",
      "source": [
        ""
      ],
      "execution_count": 0,
      "outputs": []
    }
  ]
}